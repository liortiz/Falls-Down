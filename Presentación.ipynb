{
 "cells": [
  {
   "cell_type": "markdown",
   "metadata": {
    "colab_type": "text",
    "id": "oq2qeGckcIj0"
   },
   "source": [
    "# Sistema detector de caídas\n",
    "\n",
    "\n",
    "\n"
   ]
  },
  {
   "cell_type": "markdown",
   "metadata": {
    "colab_type": "text",
    "id": "nL6-TX6dZvFg"
   },
   "source": [
    "Las personas de tercera edad requieren cuidados especiales que implican su acompañamiento en casi la totalidad del tiempo; lamentablemente, para muchas familias no es posible brindarles un cuidado total a estas personas. Por ello, buscamos brindarles una solución a uno de los problemas claves que se presentan en los adultos de tercera edad; las caídas. Éstas últimas representan un gran problema ya que si no se atienden en momentos juntos pueden provocar lesiones graves, discapacidades e incluso la muerte.\n",
    "\n",
    "Este problema ha sido abordado por diferentes empresas, institutos y estudiantes quienes han dedicados sus enfoques en la prevención caídas. Por un lado, existen tesis enfocadas en el pos-caída, es decir, en todo el proceso de recuperación física del adulto mayor después de la caída, como la tesis de Beatriz Tobón Castaño de la Universitat de Barcelona y la tesis de Ana Lavedrán Santamaría de la Universitat de Lleida, buscando de ésta manera darle la importancia que requiere esta problemática. Así, mismo empresas multinacionales, como Ibermática, e institutos, como el Instituto de Biomecánica (IBV) y el Instituto Tecnológico Textil (AITEX), se han enfocado en el aspecto pre-caída mediante la creación de sistemas inteligentes de fácil acceso e implementación.\n",
    "\n",
    "Dichos dispositivos buscan prevenir, monitorizar y proteger a los adultos mayores. La manera en la que realizaron estos sistemas fue en base a una base de datos proporcionados en sensores integrados en dispositivos de tamaños insignificantes y en textiles. Estos sensores recopilan la ubicación al igual que la señales biomecánicas que genera el adulto, luego, al momento en el que se detecta una anomalía en el ambiente, se informa a los cuidadores y/o familiares.\n",
    "\n",
    "\n"
   ]
  },
  {
   "cell_type": "markdown",
   "metadata": {},
   "source": [
    "# Materiales  y Métodos \n",
    "\n",
    "Para la solución de este problema se implementaron los sensores que provienen de un objeto casi indispensable actualmente, el teléfono celular. Mediante la app IMU+GPS Stream se recolectaron datos experimentales, que consistian en simular caidas y no caidas, con el dispositivo movil en los bolsillos del pantalón; los datos de cada caida quedan guardados en el dispositivo en una archivo csv, para posteriormente  importarlos a python a partir de la libreria pandas.  Ya en python, en cada DataFrame de las caídas se tomó la norma de las aceleraciones y se graficó para reconocer una caída y no caída; estas caídas se identificaron  con el cambio de magnitud considerable de la norma de las aceleracones. Un DataFrame tenía una magnitud de 500 a 1000 datos; para que el algoritmo fuera más eficiente se realizó un barrido de una lista de 5 datos con un avance de un dato y se colocó una condicional para que indicara cuales eran los intervalos donde la magnitud superaba cierto valor que se consideró apartir de los experimentos; si dicha señal se mantenía en una secuencia de 4 pasos, en ese intervalo se consideró una caida. Una vez localizado el intervalo de cinco datos se descomponían en cada eje y se encontraba sus respectivos máximos y mínimos.\n",
    "\n",
    "\n",
    "\n",
    "\n"
   ]
  },
  {
   "cell_type": "code",
   "execution_count": 2,
   "metadata": {},
   "outputs": [
    {
     "name": "stdout",
     "output_type": "stream",
     "text": [
      "ALERTA: VIEJITO EN EL PISO\n",
      "intervalo: 179.0 185.0\n"
     ]
    },
    {
     "data": {
      "text/plain": [
       "<Figure size 640x480 with 1 Axes>"
      ]
     },
     "metadata": {},
     "output_type": "display_data"
    },
    {
     "name": "stdout",
     "output_type": "stream",
     "text": [
      "max_x 14.394\n",
      "min_x -5.468\n",
      "max_y 4.4719999999999995\n",
      "min_y -5.152\n",
      "max_z 12.967\n",
      "min_z -17.899\n"
     ]
    }
   ],
   "source": [
    "import pandas as pd\n",
    "from math import sqrt\n",
    "import numpy as np\n",
    "import matplotlib.pyplot as plt\n",
    "df=pd.read_csv(\"dataset_35.csv\")\n",
    "            \n",
    "df.columns\n",
    "df.rename(columns={df.columns[2]:'x',df.columns[3]:'y',df.columns[4]:'z'},inplace=True)\n",
    "lista=[]\n",
    "for i in range(len(df)):\n",
    "    lista.append(sqrt((df['x'].iloc[i])**2+(df['y'].iloc[i])**2+(df['z'].iloc[i])**2))\n",
    "    \n",
    "x=np.linspace(0,len(lista),len(lista))\n",
    "plt.scatter(x,lista,color='red')\n",
    "\n",
    "f=0\n",
    "A=np.array(lista)\n",
    "m=len(lista)\n",
    "for i in range(len(df)-5):\n",
    "    P=A[i:i+5]\n",
    "    h=max(P)-min(P)\n",
    "    if (max(P)-min(P)>15):\n",
    "        f=f+1\n",
    "        #print(\"caida\")\n",
    "        #print('Distancia',h)\n",
    "        #print(P)\n",
    "        #print('media',np.mean(P))\n",
    "        #print(\"intervalo:\",i*len(lista)/m,(i+3)*len(lista)/m)\n",
    "        if (f==4):\n",
    "            print(\"ALERTA: VIEJITO EN EL PISO\")\n",
    "            print(\"intervalo:\",(i-3)*len(lista)/m,(i+3)*len(lista)/m)\n",
    "            g=i\n",
    "            #print('inicio',i)\n",
    "    else:\n",
    "        f=0\n",
    "plt.show()\n",
    "\n",
    "\n",
    "max_x=max(np.array(df['x'])[g:g+5])\n",
    "print('max_x',max_x)\n",
    "min_x=min(np.array(df['x'])[g:g+5])\n",
    "print('min_x', min_x)\n",
    "max_y=max(np.array(df['y'])[g:g+5])\n",
    "print('max_y', max_y)\n",
    "min_y=min(np.array(df['y'])[g:g+5])\n",
    "print('min_y', min_y)\n",
    "max_z=max(np.array(df['z'])[g:g+5])\n",
    "print('max_z', max_z)\n",
    "min_z=min(np.array(df['z'])[g:g+5])\n",
    "print('min_z', min_z)\n"
   ]
  },
  {
   "cell_type": "markdown",
   "metadata": {},
   "source": [
    "# Modelo\n",
    "\n",
    "Una vez obtenidos los datos, se hizo una lista con los valores de cada caida y se realizo un dataframe como base de datos para entrenar el modelo (analogamente se hizo para las no caidas).Se implemento un modelo de regresion logistica al ser un problema categorico binario. "
   ]
  },
  {
   "cell_type": "code",
   "execution_count": 3,
   "metadata": {},
   "outputs": [
    {
     "name": "stdout",
     "output_type": "stream",
     "text": [
      "[1 1 0 1 0 0 0 1 1 1 1 0 1 1 1 0 0 1 1 1 0 1 0 1 1 0 0 0 0 1 0 0 1 1 0 1 1\n",
      " 1 1 0 0 1 1 1 0 1 1 1 1 1 0 1 0 0 0 1 0 1 0 0 0 1 1 0 1 1 1]\n"
     ]
    },
    {
     "name": "stderr",
     "output_type": "stream",
     "text": [
      "C:\\Users\\lizet\\Anaconda3\\lib\\site-packages\\sklearn\\linear_model\\logistic.py:432: FutureWarning: Default solver will be changed to 'lbfgs' in 0.22. Specify a solver to silence this warning.\n",
      "  FutureWarning)\n"
     ]
    }
   ],
   "source": [
    "import pandas as pd\n",
    "import numpy as np\n",
    "\n",
    "\n",
    "df=pd.read_csv(\"lk2.csv\")  # base da datos para el entrenamiento\n",
    "df.rename(columns={df.columns[0]:'x_1',df.columns[1]:'x_0',df.columns[2]:'y_1',df.columns[3]:'y_0',df.columns[4]:'z_1',df.columns[5]:'z_0',df.columns[6]:'e'},inplace=True)\n",
    "\n",
    "X=df[['x_1','x_0','y_1','y_0','z_1','z_0']] #almacenamos datos de las variables de entrada \n",
    "Y=df['e'] # almacenamos datos de la variable de salida\n",
    "\n",
    "from sklearn.model_selection import train_test_split  #librerías para separar los datos de prueba y entrenamiento\n",
    "\n",
    "X_train, X_test, Y_train, Y_test = train_test_split(X,Y,test_size=0.7) #tomamos un 80% de los datos para obtener el modelo\n",
    "\n",
    "from sklearn.linear_model import LogisticRegression #librería para usar el modelo de regresión logística \n",
    "d=LogisticRegression() #definimos el algortimo\n",
    "\n",
    "d.fit(X_train,Y_train) #entrenamos el modelo con los datos\n",
    "yhat = d.predict(X_test)\n",
    "print(yhat)\n"
   ]
  },
  {
   "cell_type": "markdown",
   "metadata": {},
   "source": [
    "# Resultados"
   ]
  },
  {
   "cell_type": "code",
   "execution_count": null,
   "metadata": {
    "colab": {
     "base_uri": "https://localhost:8080/",
     "height": 492
    },
    "colab_type": "code",
    "executionInfo": {
     "elapsed": 839,
     "status": "error",
     "timestamp": 1569289836102,
     "user": {
      "displayName": "Lizeth Catherine Ortiz Pulido",
      "photoUrl": "",
      "userId": "17243798455745600575"
     },
     "user_tz": 300
    },
    "id": "VgIGeOwWa60E",
    "outputId": "d3127dab-c9e7-4cdb-d57c-c046429d9642"
   },
   "outputs": [],
   "source": [
    "#_________________Entrenamiento de datos__________________\n",
    "\n",
    "import pandas as pd\n",
    "import numpy as np\n",
    "\n",
    "df=pd.read_csv(\"lk2.csv\")  # base da datos para el entrenamiento\n",
    "df.rename(columns={df.columns[0]:'x_1',df.columns[1]:'x_0',df.columns[2]:'y_1',df.columns[3]:'y_0',df.columns[4]:'z_1',df.columns[5]:'z_0',df.columns[6]:'e'},inplace=True)\n",
    "\n",
    "\n",
    "X=df[['x_1','x_0','y_1','y_0','z_1','z_0']] #almacenamos datos de las variables de entrada \n",
    "Y=df['e'] # almacenamos datos de la variable de salida\n",
    "\n",
    "from sklearn.model_selection import train_test_split  #librerías para separar los datos de prueba y entrenamiento\n",
    "\n",
    "X_train, X_test, Y_train, Y_test = train_test_split(X,Y,test_size=0.7) #tomamos un 80% de los datos para obtener el modelo\n",
    "\n",
    "from sklearn.linear_model import LogisticRegression #librería para usar el modelo de regresión logística \n",
    "d=LogisticRegression() #definimos el algortimo\n",
    "\n",
    "d.fit(X_train,Y_train) #entrenamos el modelo con los datos\n",
    "yhat = d.predict(X_test)\n",
    "yhat\n",
    "from sklearn.metrics import jaccard_similarity_score\n",
    "jaccard_similarity_score(Y_test, yhat)\n",
    "#_________________Escucha en tiempo real__________________\n",
    "\n",
    "import socket #librería para recibir la información del celular\n",
    "s=socket.socket(socket.AF_INET,socket.SOCK_DGRAM)\n",
    "s.bind(('',4444))\n",
    "\n",
    "#_________________Envía correo__________________\n",
    "\n",
    "import smtplib\n",
    "from email.mime.multipart import MIMEMultipart\n",
    "from email.mime.text import MIMEText\n",
    " \n",
    "\n",
    "def correo(x,y):\n",
    "    \n",
    "    fromaddr = 'liortiz@unal.edu.co'  #se definen los correos\n",
    "    toaddrs1  = 'mfcarod@unal.edu.co'\n",
    "    #toaddrs2  = 'alosanchezvi@unal.edu.co'\n",
    "    #toaddrs3  = 'mvizcaino@unal.edu.co'\n",
    "    #toaddrsp  = 'fagomezj@gmail.com'\n",
    "    \n",
    "    msg = MIMEMultipart('alternative') #tipo de correo\n",
    "    msg['Subject'] = \"ALERTA\"\n",
    "    \n",
    "    nombre = \"Pepito\"\n",
    "\n",
    "    text = \"Le informamos que la persona \"+nombre+\" pudo haber sufrido una caida.\\n Haga clik en el siguiente enlace para ver la ubicación: https://maps.google.com/?ll=\"+x+\",\"+y+\"&z=18&t=m\" #cuerpo del correo\n",
    "    msg.attach( MIMEText(text, 'plain')) #agrega cuerpo a msg\n",
    "\n",
    " \n",
    "    username = fromaddr\n",
    "    password = '' \n",
    "    \n",
    "\n",
    "    server = smtplib.SMTP('smtp.gmail.com:587') #conexión con servidor\n",
    "    server.starttls() #extensión a los protocolos de comunicación de texto plano\n",
    "    server.login(username,password)  \n",
    "    #server.sendmail(fromaddr, toaddrs1, msg.as_string()) \n",
    "    #server.sendmail(fromaddr, toaddrs2, msg.as_string())\n",
    "    #server.sendmail(fromaddr, toaddrs3, msg.as_string())\n",
    "    server.sendmail(fromaddr, fromaddr, msg.as_string())\n",
    "    #server.sendmail(fromaddr, toaddrsp, msg.as_string())\n",
    "    server.quit()\n",
    "\n",
    "#________________________________________\n",
    "\n",
    "gps = []    \n",
    "dato = [] \n",
    "c = 0\n",
    "while True:\n",
    "    data,addr=s.recvfrom(4444) \n",
    "    data = data.decode(\"utf-8\") #cambia de tipo byte a tipo string\n",
    "    print(data)\n",
    "    print (\"-------------------------------\")\n",
    "    lista = []\n",
    "    aux = \"\"\n",
    "    for i in range (len(data)):  #separa los números en una lista y los guarda en float\n",
    "        if (data[i] != \",\"):\n",
    "            aux = aux + data[i]\n",
    "        else:\n",
    "            ent = float (aux)\n",
    "            lista.append(ent)\n",
    "            aux = \"\"\n",
    "    \n",
    "    accele = []\n",
    "    \n",
    "    \n",
    "    for i in range (len(lista)):   #en una nueva lista se guardan los 3 valores del acelerómetro\n",
    "        if (lista[i] == 3.0):\n",
    "            accele.append(lista[i+1])\n",
    "            accele.append(lista[i+2])\n",
    "            if len(lista) == 5:\n",
    "                accele.append(lista[i+3])\n",
    "            else : \n",
    "                accele.append (0)\n",
    "        elif (lista[i] == 1.0):\n",
    "            gps[0] = lista[i+1]\n",
    "            gps[1] = lista[i+2]\n",
    "            print (\"Ya\")\n",
    "            \n",
    "    dato.append (accele) #esta lista se guarda en una nueva lista\n",
    "        \n",
    "    while len(dato) == 5: #toma de a 5 datos para analizarlos\n",
    "        \n",
    "            x_max = max ([dato[0][0],dato[1][0],dato[2][0],dato[3][0],dato[4][0]])\n",
    "            y_max = max ([dato[0][1],dato[1][1],dato[2][1],dato[3][1],dato[4][1]])\n",
    "            z_max = max ([dato[0][2],dato[1][2],dato[2][2],dato[3][2],dato[4][2]])\n",
    "            x_min = max ([dato[0][0],dato[1][0],dato[2][0],dato[3][0],dato[4][0]])\n",
    "            y_min = max ([dato[0][1],dato[1][1],dato[2][1],dato[3][1],dato[4][1]])\n",
    "            z_min = max ([dato[0][2],dato[1][2],dato[2][2],dato[3][2],dato[4][2]])\n",
    "            dato = []\n",
    "            \n",
    "            t=d.predict([[x_max,x_min,y_max,y_min,z_max,z_min]]) #predice el resultado basado en el modelo previamente entrenado\n",
    "            print(t)\n",
    "            \n",
    "            if t == [1] and gps != []:\n",
    "                print (\"SE CAYOOOOOO\")\n",
    "                correo (str(gps[0]),str(gps[1])) #entrada del correo al que se enviará el mensaje\n",
    "                c += 1                    \n",
    "            else:\n",
    "                print (\"Todo bien\") #-------------estos mensajes los dejamos?\n",
    "                \n",
    "    if c == 5:\n",
    "        break "
   ]
  },
  {
   "cell_type": "markdown",
   "metadata": {},
   "source": [
    "Para representar el estado del adulto mayor se utilizó un sistema booleano; para caída el sistema arroja un 1 y para no caída el sistema arroja un 0. Luego, se utilizó un condicional al cual se accede al momento que el estado del adulto mayor es 1, en ese caso, se llama una función que, finalmente, se ocupa de enviar un correo a uno o más destinatarios dando aviso sobre una posible caída del adulto mayor; ademas de que le indica su ubicacion."
   ]
  },
  {
   "cell_type": "markdown",
   "metadata": {},
   "source": [
    "# Conclusiones\n",
    "\n",
    "Analizando los datos del acelerómetro se pudo determinar que en el momento de una caída; la señal presentaba una serie de picos máximos y mínimos en un intervalo de cinco datos seguidos. Por lo cual se tomaron las distancias entre los picos y si tal diferencia se mantenía, que consideramos a partir de los valores experimentales, de manera consecutiva en un serie de cuatro intervalos, se consideró como una caída. De manera similar para las no caídas, pero con una serie de picos de menor magnitud.\n",
    "\n",
    "Se puede determinar que la estrategia de evaluación cuantitativa, está basado en la precisión de ajuste de modelo de regresión logística con los datos obtenidos, al momento de predecir una caída. Ya que se utilizó un modelo de regresión logística al tener una salida de predicción discreta y una linealidad en los datos, motivo por el cual datos atípicos, como dejar caer el celular, fueron determinadas por el modelo como una caída.\n",
    "\n"
   ]
  }
 ],
 "metadata": {
  "colab": {
   "collapsed_sections": [],
   "name": "Presentación.ipynb",
   "provenance": [
    {
     "file_id": "14e-XdBpMuYE0FAp0t7PrVXE4r5-L1j1U",
     "timestamp": 1568751304085
    }
   ]
  },
  "kernelspec": {
   "display_name": "Python 3",
   "language": "python",
   "name": "python3"
  },
  "language_info": {
   "codemirror_mode": {
    "name": "ipython",
    "version": 3
   },
   "file_extension": ".py",
   "mimetype": "text/x-python",
   "name": "python",
   "nbconvert_exporter": "python",
   "pygments_lexer": "ipython3",
   "version": "3.7.3"
  }
 },
 "nbformat": 4,
 "nbformat_minor": 1
}
